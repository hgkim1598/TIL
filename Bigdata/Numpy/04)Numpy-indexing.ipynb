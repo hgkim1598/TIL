{
 "cells": [
  {
   "cell_type": "markdown",
   "id": "57e4704b",
   "metadata": {},
   "source": [
    "### Boolean indexing"
   ]
  },
  {
   "cell_type": "code",
   "execution_count": 1,
   "id": "25f72070",
   "metadata": {},
   "outputs": [],
   "source": [
    "import numpy as np"
   ]
  },
  {
   "cell_type": "code",
   "execution_count": 3,
   "id": "b72ab0b6",
   "metadata": {},
   "outputs": [
    {
     "data": {
      "text/plain": [
       "array([6, 7, 8, 9])"
      ]
     },
     "execution_count": 3,
     "metadata": {},
     "output_type": "execute_result"
    }
   ],
   "source": [
    "array1d = np.arange(start=1, stop=10)\n",
    "array1d[array1d>5]"
   ]
  },
  {
   "cell_type": "code",
   "execution_count": 4,
   "id": "e37f7e68",
   "metadata": {},
   "outputs": [
    {
     "name": "stdout",
     "output_type": "stream",
     "text": [
      "6 7 8 9 "
     ]
    }
   ],
   "source": [
    "for i in array1d:\n",
    "    if i>5:\n",
    "        print(i, end= ' ')\n",
    "    else:\n",
    "        pass"
   ]
  },
  {
   "cell_type": "code",
   "execution_count": 6,
   "id": "7987b4d8",
   "metadata": {},
   "outputs": [
    {
     "data": {
      "text/plain": [
       "array([6, 7, 8, 9])"
      ]
     },
     "execution_count": 6,
     "metadata": {},
     "output_type": "execute_result"
    }
   ],
   "source": [
    "# 두 번째 방법\n",
    "boolean_indexes = np.array([False, False, False, False, False,  True,  True,  True,  True])\n",
    "array1d[boolean_indexes]"
   ]
  },
  {
   "cell_type": "markdown",
   "id": "ccbd4207",
   "metadata": {},
   "source": [
    "### 행렬의 정렬 - sort()와 argsort()"
   ]
  },
  {
   "cell_type": "code",
   "execution_count": 9,
   "id": "6d031ae0",
   "metadata": {},
   "outputs": [
    {
     "name": "stdout",
     "output_type": "stream",
     "text": [
      "원본 행렬:  [3 1 9 5]\n",
      "np.sort()함수 적용 후 원본 행렬:  [3 1 9 5]\n",
      "np.sort()함수 적용 후 반환된 원본 행렬:  [1 3 5 9]\n",
      "org_array.sort() 적용 후 원본 행렬:  [1 3 5 9]\n",
      "org_array.sort() 적용 후 반환된 원본 행렬:  None\n"
     ]
    }
   ],
   "source": [
    "org_array = np.array([3, 1, 9, 5])\n",
    "print('원본 행렬: ', org_array)\n",
    "\n",
    "# 1. np.sort()로 정렬\n",
    "sort_array1 = np.sort(org_array)\n",
    "print('np.sort()함수 적용 후 원본 행렬: ', org_array)\n",
    "print('np.sort()함수 적용 후 반환된 원본 행렬: ', sort_array1)\n",
    "\n",
    "# 2. ndarray.sort()로 정렬\n",
    "sort_array2 = org_array.sort()\n",
    "print('org_array.sort() 적용 후 원본 행렬: ', org_array)\n",
    "print('org_array.sort() 적용 후 반환된 원본 행렬: ', sort_array2)"
   ]
  },
  {
   "cell_type": "code",
   "execution_count": 12,
   "id": "2c4cc22e",
   "metadata": {},
   "outputs": [
    {
     "name": "stdout",
     "output_type": "stream",
     "text": [
      "내림차순으로 정렬: [9 5 3 1]\n"
     ]
    }
   ],
   "source": [
    "# 내림차순 정렬\n",
    "sort_array1_desc = np.sort(org_array)[::-1]\n",
    "print('내림차순으로 정렬:', sort_array1_desc)"
   ]
  },
  {
   "cell_type": "code",
   "execution_count": null,
   "id": "ffe027db",
   "metadata": {},
   "outputs": [],
   "source": [
    "# end of file"
   ]
  }
 ],
 "metadata": {
  "kernelspec": {
   "display_name": "Python 3 (ipykernel)",
   "language": "python",
   "name": "python3"
  },
  "language_info": {
   "codemirror_mode": {
    "name": "ipython",
    "version": 3
   },
   "file_extension": ".py",
   "mimetype": "text/x-python",
   "name": "python",
   "nbconvert_exporter": "python",
   "pygments_lexer": "ipython3",
   "version": "3.10.9"
  }
 },
 "nbformat": 4,
 "nbformat_minor": 5
}
