{
 "cells": [
  {
   "cell_type": "markdown",
   "id": "455aebab",
   "metadata": {},
   "source": [
    "### 넘파이의 ndarray의 데이터 세트 선택하기 - 인덱싱(Indexing)\n",
    "*넘파이에서 ndarray내의 일부 데이터 셋이나 특정 데이터만을 선택 할 수 있도록 하는 인덱싱에 대한 알아보자\n",
    "#### 1.특정한 데이터만 추출\n",
    "#### 2.슬라이싱(Slicing)\n",
    "#### 3.팬시 인덱싱(Fancy Indexing)\n",
    "#### 4.불리언 인덱싱(Boolean Indexing)"
   ]
  },
  {
   "cell_type": "code",
   "execution_count": 2,
   "id": "12a86a57",
   "metadata": {},
   "outputs": [],
   "source": [
    "import numpy as np"
   ]
  },
  {
   "cell_type": "code",
   "execution_count": 8,
   "id": "83d52b91",
   "metadata": {},
   "outputs": [
    {
     "name": "stdout",
     "output_type": "stream",
     "text": [
      "value:  9\n",
      "<class 'numpy.int32'>\n"
     ]
    }
   ],
   "source": [
    "# 1~9까지 1차원 ndarray생성 -np.arange\n",
    "array1 = np.arange(1, 10)\n",
    "value = array1[len(array1)-1]\n",
    "print('value: ', value)\n",
    "print(type(value))"
   ]
  },
  {
   "cell_type": "code",
   "execution_count": 10,
   "id": "01f849aa",
   "metadata": {},
   "outputs": [
    {
     "name": "stdout",
     "output_type": "stream",
     "text": [
      "[[1 2 3]\n",
      " [4 5 6]\n",
      " [7 8 9]]\n"
     ]
    }
   ],
   "source": [
    "# array1을 2차원으로 변형\n",
    "array1d = array1.copy()\n",
    "array2d = array1d.reshape(3,3)\n",
    "print(array2d)"
   ]
  },
  {
   "cell_type": "code",
   "execution_count": 15,
   "id": "d211097f",
   "metadata": {},
   "outputs": [
    {
     "name": "stdout",
     "output_type": "stream",
     "text": [
      "(row = 0, col=0) index 가리키는 값:  1\n",
      "(row = 0, col=1) index 가리키는 값:  2\n",
      "(row = 1, col=0) index 가리키는 값:  4\n"
     ]
    }
   ],
   "source": [
    "print('(row = 0, col=0) index 가리키는 값: ', array2d[0,0])  # [0][0]\n",
    "print('(row = 0, col=1) index 가리키는 값: ', array2d[0,1])  #[0][1]\n",
    "print('(row = 1, col=0) index 가리키는 값: ', array2d[1,0])"
   ]
  },
  {
   "cell_type": "markdown",
   "id": "0efa4089",
   "metadata": {},
   "source": [
    "## 2.슬라이싱(Slicing) - 2차원"
   ]
  },
  {
   "cell_type": "code",
   "execution_count": 19,
   "id": "bf8a5532",
   "metadata": {},
   "outputs": [
    {
     "name": "stdout",
     "output_type": "stream",
     "text": [
      "[[1 2 3]\n",
      " [4 5 6]\n",
      " [7 8 9]]\n",
      "array2d(0:3, 0:2): \n",
      " [[1 2]\n",
      " [4 5]\n",
      " [7 8]]\n",
      "array2d(0:2, 0:2): \n",
      " [[1 2]\n",
      " [4 5]]\n",
      "array2d(1:, 0:3): \n",
      " [[4 5 6]\n",
      " [7 8 9]]\n"
     ]
    }
   ],
   "source": [
    "print(array2d)\n",
    "\n",
    "print('array2d(0:3, 0:2): \\n', array2d[0:3, 0:2])\n",
    "print('array2d(0:2, 0:2): \\n', array2d[0:2, 0:2])\n",
    "print('array2d(1:, 0:3): \\n', array2d[1:, :])"
   ]
  },
  {
   "cell_type": "code",
   "execution_count": 20,
   "id": "bfdcf1f4",
   "metadata": {},
   "outputs": [
    {
     "name": "stdout",
     "output_type": "stream",
     "text": [
      "array2d(:2, 0): \n",
      " [1 4]\n",
      "array2d(:2, 0:1): \n",
      " [[1]\n",
      " [4]]\n"
     ]
    }
   ],
   "source": [
    "## question 1\n",
    "print('array2d(:2, 0): \\n', array2d[:2, 0])\n",
    "print('array2d(:2, 0:1): \\n', array2d[:2, 0:1])"
   ]
  },
  {
   "cell_type": "markdown",
   "id": "11ca3da3",
   "metadata": {},
   "source": [
    "### 3. 팬시 인덱싱(Fancy Indexing)"
   ]
  },
  {
   "cell_type": "code",
   "execution_count": 22,
   "id": "36ec9318",
   "metadata": {},
   "outputs": [
    {
     "data": {
      "text/plain": [
       "array([[1, 2, 3],\n",
       "       [4, 5, 6],\n",
       "       [7, 8, 9]])"
      ]
     },
     "execution_count": 22,
     "metadata": {},
     "output_type": "execute_result"
    }
   ],
   "source": [
    "print(array2d)"
   ]
  },
  {
   "cell_type": "code",
   "execution_count": 25,
   "id": "42c2a309",
   "metadata": {},
   "outputs": [
    {
     "data": {
      "text/plain": [
       "array([[3],\n",
       "       [6]])"
      ]
     },
     "execution_count": 25,
     "metadata": {},
     "output_type": "execute_result"
    }
   ],
   "source": [
    "array2d[[0,1],2]  # 2 => 3,6,9   /  \n",
    "array2d[[0,1],2:]"
   ]
  },
  {
   "cell_type": "code",
   "execution_count": 26,
   "id": "ce8bd148",
   "metadata": {},
   "outputs": [
    {
     "data": {
      "text/plain": [
       "array([[3],\n",
       "       [9]])"
      ]
     },
     "execution_count": 26,
     "metadata": {},
     "output_type": "execute_result"
    }
   ],
   "source": [
    "array2d[[0,2],2:]"
   ]
  },
  {
   "cell_type": "code",
   "execution_count": 27,
   "id": "d381f014",
   "metadata": {},
   "outputs": [
    {
     "data": {
      "text/plain": [
       "array([2, 8])"
      ]
     },
     "execution_count": 27,
     "metadata": {},
     "output_type": "execute_result"
    }
   ],
   "source": [
    "array2d[[0,2],[1,1]]"
   ]
  },
  {
   "cell_type": "code",
   "execution_count": null,
   "id": "b172c676",
   "metadata": {},
   "outputs": [],
   "source": []
  },
  {
   "cell_type": "code",
   "execution_count": null,
   "id": "930a5dc7",
   "metadata": {},
   "outputs": [],
   "source": []
  },
  {
   "cell_type": "code",
   "execution_count": null,
   "id": "3457961f",
   "metadata": {},
   "outputs": [],
   "source": []
  }
 ],
 "metadata": {
  "kernelspec": {
   "display_name": "Python 3 (ipykernel)",
   "language": "python",
   "name": "python3"
  },
  "language_info": {
   "codemirror_mode": {
    "name": "ipython",
    "version": 3
   },
   "file_extension": ".py",
   "mimetype": "text/x-python",
   "name": "python",
   "nbconvert_exporter": "python",
   "pygments_lexer": "ipython3",
   "version": "3.9.13"
  }
 },
 "nbformat": 4,
 "nbformat_minor": 5
}
