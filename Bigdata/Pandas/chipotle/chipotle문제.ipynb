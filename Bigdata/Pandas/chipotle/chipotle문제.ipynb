{
 "cells": [
  {
   "cell_type": "code",
   "execution_count": null,
   "id": "ef2b9378",
   "metadata": {},
   "outputs": [],
   "source": [
    "# Q1. chipotle 데이터를 로드해주세요."
   ]
  },
  {
   "cell_type": "code",
   "execution_count": 2,
   "id": "cae4335d",
   "metadata": {},
   "outputs": [],
   "source": [
    "import pandas as pd\n",
    "chip_df = pd.read_csv('./chipotle.tsv', engine='python', sep='\\t') # hint sep 파라미터를 활용한다."
   ]
  },
  {
   "cell_type": "code",
   "execution_count": null,
   "id": "fd6111b2",
   "metadata": {},
   "outputs": [],
   "source": [
    "# 강사님 답\n",
    "chipo_df = pd.read_csv('./chipotle.tsv', engine='python', sep='\\t')"
   ]
  },
  {
   "cell_type": "code",
   "execution_count": 6,
   "id": "725ab3e3",
   "metadata": {},
   "outputs": [],
   "source": [
    "# Q2. 'quantity'의 값이 3인 데이터를 추출한다.\n",
    "# 0부터 index를 재정렬한 후 상위 5개행만을 추출해보자."
   ]
  },
  {
   "cell_type": "code",
   "execution_count": 9,
   "id": "57cb1ea1",
   "metadata": {},
   "outputs": [
    {
     "data": {
      "text/html": [
       "<div>\n",
       "<style scoped>\n",
       "    .dataframe tbody tr th:only-of-type {\n",
       "        vertical-align: middle;\n",
       "    }\n",
       "\n",
       "    .dataframe tbody tr th {\n",
       "        vertical-align: top;\n",
       "    }\n",
       "\n",
       "    .dataframe thead th {\n",
       "        text-align: right;\n",
       "    }\n",
       "</style>\n",
       "<table border=\"1\" class=\"dataframe\">\n",
       "  <thead>\n",
       "    <tr style=\"text-align: right;\">\n",
       "      <th></th>\n",
       "      <th>index</th>\n",
       "      <th>order_id</th>\n",
       "      <th>quantity</th>\n",
       "      <th>item_name</th>\n",
       "      <th>choice_description</th>\n",
       "      <th>item_price</th>\n",
       "    </tr>\n",
       "  </thead>\n",
       "  <tbody>\n",
       "    <tr>\n",
       "      <th>0</th>\n",
       "      <td>409</td>\n",
       "      <td>178</td>\n",
       "      <td>3</td>\n",
       "      <td>Chicken Bowl</td>\n",
       "      <td>[[Fresh Tomato Salsa (Mild), Tomatillo-Green C...</td>\n",
       "      <td>$32.94</td>\n",
       "    </tr>\n",
       "    <tr>\n",
       "      <th>1</th>\n",
       "      <td>445</td>\n",
       "      <td>193</td>\n",
       "      <td>3</td>\n",
       "      <td>Bowl</td>\n",
       "      <td>[Braised Carnitas, Pinto Beans, [Sour Cream, C...</td>\n",
       "      <td>$22.20</td>\n",
       "    </tr>\n",
       "    <tr>\n",
       "      <th>2</th>\n",
       "      <td>689</td>\n",
       "      <td>284</td>\n",
       "      <td>3</td>\n",
       "      <td>Canned Soft Drink</td>\n",
       "      <td>[Diet Coke]</td>\n",
       "      <td>$3.75</td>\n",
       "    </tr>\n",
       "    <tr>\n",
       "      <th>3</th>\n",
       "      <td>818</td>\n",
       "      <td>338</td>\n",
       "      <td>3</td>\n",
       "      <td>Bottled Water</td>\n",
       "      <td>NaN</td>\n",
       "      <td>$3.27</td>\n",
       "    </tr>\n",
       "    <tr>\n",
       "      <th>4</th>\n",
       "      <td>850</td>\n",
       "      <td>350</td>\n",
       "      <td>3</td>\n",
       "      <td>Canned Soft Drink</td>\n",
       "      <td>[Sprite]</td>\n",
       "      <td>$3.75</td>\n",
       "    </tr>\n",
       "  </tbody>\n",
       "</table>\n",
       "</div>"
      ],
      "text/plain": [
       "   index  order_id  quantity          item_name  \\\n",
       "0    409       178         3       Chicken Bowl   \n",
       "1    445       193         3               Bowl   \n",
       "2    689       284         3  Canned Soft Drink   \n",
       "3    818       338         3      Bottled Water   \n",
       "4    850       350         3  Canned Soft Drink   \n",
       "\n",
       "                                  choice_description item_price  \n",
       "0  [[Fresh Tomato Salsa (Mild), Tomatillo-Green C...    $32.94   \n",
       "1  [Braised Carnitas, Pinto Beans, [Sour Cream, C...    $22.20   \n",
       "2                                        [Diet Coke]     $3.75   \n",
       "3                                                NaN     $3.27   \n",
       "4                                           [Sprite]     $3.75   "
      ]
     },
     "execution_count": 9,
     "metadata": {},
     "output_type": "execute_result"
    }
   ],
   "source": [
    "chip_df[chip_df.quantity == 3].reset_index().head(5)"
   ]
  },
  {
   "cell_type": "code",
   "execution_count": null,
   "id": "130ed4cb",
   "metadata": {},
   "outputs": [],
   "source": [
    "# 강사님 답\n",
    "# 1.\n",
    "cond1 = chiop_df.quantity == 3\n",
    "chipo_df[cond1].reset_index().head(5)"
   ]
  },
  {
   "cell_type": "code",
   "execution_count": null,
   "id": "7144af59",
   "metadata": {},
   "outputs": [],
   "source": [
    "# 2."
   ]
  },
  {
   "cell_type": "code",
   "execution_count": 7,
   "id": "a13ea065",
   "metadata": {},
   "outputs": [],
   "source": [
    "# Q3 'quantity', 'item_name', 'item_price'로만 구성된 데이터 프레임을\n",
    "# new_df라고 정의해보자."
   ]
  },
  {
   "cell_type": "code",
   "execution_count": 6,
   "id": "64f24efb",
   "metadata": {},
   "outputs": [],
   "source": [
    "new_df = chip_df[['quantity', 'item_name', 'item_price']]"
   ]
  },
  {
   "cell_type": "code",
   "execution_count": null,
   "id": "b01b3b4f",
   "metadata": {},
   "outputs": [],
   "source": [
    "# 강사님 답\n",
    "# 1.\n",
    "new_df = chipo_df[['quantity', 'item_name', 'item_price']]"
   ]
  },
  {
   "cell_type": "code",
   "execution_count": 10,
   "id": "319b5203",
   "metadata": {},
   "outputs": [],
   "source": [
    "# Q4 'item_name'이 'Chicken Burrito'인 데이터 프레임을 추출하고 인덱스를 초기화해보세요 ^^"
   ]
  },
  {
   "cell_type": "code",
   "execution_count": 8,
   "id": "adef124e",
   "metadata": {},
   "outputs": [
    {
     "data": {
      "text/html": [
       "<div>\n",
       "<style scoped>\n",
       "    .dataframe tbody tr th:only-of-type {\n",
       "        vertical-align: middle;\n",
       "    }\n",
       "\n",
       "    .dataframe tbody tr th {\n",
       "        vertical-align: top;\n",
       "    }\n",
       "\n",
       "    .dataframe thead th {\n",
       "        text-align: right;\n",
       "    }\n",
       "</style>\n",
       "<table border=\"1\" class=\"dataframe\">\n",
       "  <thead>\n",
       "    <tr style=\"text-align: right;\">\n",
       "      <th></th>\n",
       "      <th>index</th>\n",
       "      <th>order_id</th>\n",
       "      <th>quantity</th>\n",
       "      <th>item_name</th>\n",
       "      <th>choice_description</th>\n",
       "      <th>item_price</th>\n",
       "    </tr>\n",
       "  </thead>\n",
       "  <tbody>\n",
       "    <tr>\n",
       "      <th>0</th>\n",
       "      <td>16</td>\n",
       "      <td>8</td>\n",
       "      <td>1</td>\n",
       "      <td>Chicken Burrito</td>\n",
       "      <td>[Tomatillo-Green Chili Salsa (Medium), [Pinto ...</td>\n",
       "      <td>$8.49</td>\n",
       "    </tr>\n",
       "    <tr>\n",
       "      <th>1</th>\n",
       "      <td>17</td>\n",
       "      <td>9</td>\n",
       "      <td>1</td>\n",
       "      <td>Chicken Burrito</td>\n",
       "      <td>[Fresh Tomato Salsa (Mild), [Black Beans, Rice...</td>\n",
       "      <td>$8.49</td>\n",
       "    </tr>\n",
       "    <tr>\n",
       "      <th>2</th>\n",
       "      <td>23</td>\n",
       "      <td>12</td>\n",
       "      <td>1</td>\n",
       "      <td>Chicken Burrito</td>\n",
       "      <td>[[Tomatillo-Green Chili Salsa (Medium), Tomati...</td>\n",
       "      <td>$10.98</td>\n",
       "    </tr>\n",
       "    <tr>\n",
       "      <th>3</th>\n",
       "      <td>29</td>\n",
       "      <td>15</td>\n",
       "      <td>1</td>\n",
       "      <td>Chicken Burrito</td>\n",
       "      <td>[Tomatillo-Green Chili Salsa (Medium), [Pinto ...</td>\n",
       "      <td>$8.49</td>\n",
       "    </tr>\n",
       "    <tr>\n",
       "      <th>4</th>\n",
       "      <td>45</td>\n",
       "      <td>21</td>\n",
       "      <td>1</td>\n",
       "      <td>Chicken Burrito</td>\n",
       "      <td>[Tomatillo-Red Chili Salsa (Hot), [Black Beans...</td>\n",
       "      <td>$10.98</td>\n",
       "    </tr>\n",
       "    <tr>\n",
       "      <th>...</th>\n",
       "      <td>...</td>\n",
       "      <td>...</td>\n",
       "      <td>...</td>\n",
       "      <td>...</td>\n",
       "      <td>...</td>\n",
       "      <td>...</td>\n",
       "    </tr>\n",
       "    <tr>\n",
       "      <th>548</th>\n",
       "      <td>4556</td>\n",
       "      <td>1811</td>\n",
       "      <td>1</td>\n",
       "      <td>Chicken Burrito</td>\n",
       "      <td>[Tomatillo Green Chili Salsa, [Fajita Vegetabl...</td>\n",
       "      <td>$11.25</td>\n",
       "    </tr>\n",
       "    <tr>\n",
       "      <th>549</th>\n",
       "      <td>4558</td>\n",
       "      <td>1812</td>\n",
       "      <td>1</td>\n",
       "      <td>Chicken Burrito</td>\n",
       "      <td>[Fresh Tomato Salsa, [Rice, Black Beans, Chees...</td>\n",
       "      <td>$8.75</td>\n",
       "    </tr>\n",
       "    <tr>\n",
       "      <th>550</th>\n",
       "      <td>4559</td>\n",
       "      <td>1812</td>\n",
       "      <td>1</td>\n",
       "      <td>Chicken Burrito</td>\n",
       "      <td>[Tomatillo Red Chili Salsa, [Rice, Cheese, Gua...</td>\n",
       "      <td>$11.25</td>\n",
       "    </tr>\n",
       "    <tr>\n",
       "      <th>551</th>\n",
       "      <td>4566</td>\n",
       "      <td>1816</td>\n",
       "      <td>1</td>\n",
       "      <td>Chicken Burrito</td>\n",
       "      <td>[Roasted Chili Corn Salsa, [Pinto Beans, Chees...</td>\n",
       "      <td>$8.75</td>\n",
       "    </tr>\n",
       "    <tr>\n",
       "      <th>552</th>\n",
       "      <td>4569</td>\n",
       "      <td>1817</td>\n",
       "      <td>1</td>\n",
       "      <td>Chicken Burrito</td>\n",
       "      <td>[Fresh Tomato Salsa, [Fajita Vegetables, Rice]]</td>\n",
       "      <td>$8.75</td>\n",
       "    </tr>\n",
       "  </tbody>\n",
       "</table>\n",
       "<p>553 rows × 6 columns</p>\n",
       "</div>"
      ],
      "text/plain": [
       "     index  order_id  quantity        item_name  \\\n",
       "0       16         8         1  Chicken Burrito   \n",
       "1       17         9         1  Chicken Burrito   \n",
       "2       23        12         1  Chicken Burrito   \n",
       "3       29        15         1  Chicken Burrito   \n",
       "4       45        21         1  Chicken Burrito   \n",
       "..     ...       ...       ...              ...   \n",
       "548   4556      1811         1  Chicken Burrito   \n",
       "549   4558      1812         1  Chicken Burrito   \n",
       "550   4559      1812         1  Chicken Burrito   \n",
       "551   4566      1816         1  Chicken Burrito   \n",
       "552   4569      1817         1  Chicken Burrito   \n",
       "\n",
       "                                    choice_description item_price  \n",
       "0    [Tomatillo-Green Chili Salsa (Medium), [Pinto ...     $8.49   \n",
       "1    [Fresh Tomato Salsa (Mild), [Black Beans, Rice...     $8.49   \n",
       "2    [[Tomatillo-Green Chili Salsa (Medium), Tomati...    $10.98   \n",
       "3    [Tomatillo-Green Chili Salsa (Medium), [Pinto ...     $8.49   \n",
       "4    [Tomatillo-Red Chili Salsa (Hot), [Black Beans...    $10.98   \n",
       "..                                                 ...        ...  \n",
       "548  [Tomatillo Green Chili Salsa, [Fajita Vegetabl...    $11.25   \n",
       "549  [Fresh Tomato Salsa, [Rice, Black Beans, Chees...     $8.75   \n",
       "550  [Tomatillo Red Chili Salsa, [Rice, Cheese, Gua...    $11.25   \n",
       "551  [Roasted Chili Corn Salsa, [Pinto Beans, Chees...     $8.75   \n",
       "552    [Fresh Tomato Salsa, [Fajita Vegetables, Rice]]     $8.75   \n",
       "\n",
       "[553 rows x 6 columns]"
      ]
     },
     "execution_count": 8,
     "metadata": {},
     "output_type": "execute_result"
    }
   ],
   "source": [
    "chip_df[chip_df.item_name == 'Chicken Burrito'].reset_index()"
   ]
  },
  {
   "cell_type": "code",
   "execution_count": null,
   "id": "27fafb2d",
   "metadata": {},
   "outputs": [],
   "source": [
    "# 강사님 답\n",
    "chipo_df.item_name.value_counts()\n",
    "chipo_df[chipo_df.item_name=='Chicken Burrito'].reset_index(drop=True)"
   ]
  },
  {
   "cell_type": "code",
   "execution_count": null,
   "id": "6263fcb9",
   "metadata": {},
   "outputs": [],
   "source": [
    "# Q5 'item_name'중 'Burrito'가 포함된 경우의 데이터를 호출해주세요. 난이도-상"
   ]
  },
  {
   "cell_type": "code",
   "execution_count": 17,
   "id": "5c0bbaf3",
   "metadata": {},
   "outputs": [
    {
     "ename": "KeyError",
     "evalue": "False",
     "output_type": "error",
     "traceback": [
      "\u001b[1;31m---------------------------------------------------------------------------\u001b[0m",
      "\u001b[1;31mKeyError\u001b[0m                                  Traceback (most recent call last)",
      "File \u001b[1;32m~\\AppData\\Local\\Programs\\Python\\Python310\\lib\\site-packages\\pandas\\core\\indexes\\base.py:3802\u001b[0m, in \u001b[0;36mIndex.get_loc\u001b[1;34m(self, key, method, tolerance)\u001b[0m\n\u001b[0;32m   3801\u001b[0m \u001b[38;5;28;01mtry\u001b[39;00m:\n\u001b[1;32m-> 3802\u001b[0m     \u001b[38;5;28;01mreturn\u001b[39;00m \u001b[38;5;28;43mself\u001b[39;49m\u001b[38;5;241;43m.\u001b[39;49m\u001b[43m_engine\u001b[49m\u001b[38;5;241;43m.\u001b[39;49m\u001b[43mget_loc\u001b[49m\u001b[43m(\u001b[49m\u001b[43mcasted_key\u001b[49m\u001b[43m)\u001b[49m\n\u001b[0;32m   3803\u001b[0m \u001b[38;5;28;01mexcept\u001b[39;00m \u001b[38;5;167;01mKeyError\u001b[39;00m \u001b[38;5;28;01mas\u001b[39;00m err:\n",
      "File \u001b[1;32m~\\AppData\\Local\\Programs\\Python\\Python310\\lib\\site-packages\\pandas\\_libs\\index.pyx:138\u001b[0m, in \u001b[0;36mpandas._libs.index.IndexEngine.get_loc\u001b[1;34m()\u001b[0m\n",
      "File \u001b[1;32m~\\AppData\\Local\\Programs\\Python\\Python310\\lib\\site-packages\\pandas\\_libs\\index.pyx:165\u001b[0m, in \u001b[0;36mpandas._libs.index.IndexEngine.get_loc\u001b[1;34m()\u001b[0m\n",
      "File \u001b[1;32mpandas\\_libs\\hashtable_class_helper.pxi:5745\u001b[0m, in \u001b[0;36mpandas._libs.hashtable.PyObjectHashTable.get_item\u001b[1;34m()\u001b[0m\n",
      "File \u001b[1;32mpandas\\_libs\\hashtable_class_helper.pxi:5753\u001b[0m, in \u001b[0;36mpandas._libs.hashtable.PyObjectHashTable.get_item\u001b[1;34m()\u001b[0m\n",
      "\u001b[1;31mKeyError\u001b[0m: False",
      "\nThe above exception was the direct cause of the following exception:\n",
      "\u001b[1;31mKeyError\u001b[0m                                  Traceback (most recent call last)",
      "Cell \u001b[1;32mIn[17], line 1\u001b[0m\n\u001b[1;32m----> 1\u001b[0m \u001b[43mchip_df\u001b[49m\u001b[43m[\u001b[49m\u001b[38;5;124;43m'\u001b[39;49m\u001b[38;5;124;43mBurrito\u001b[39;49m\u001b[38;5;124;43m'\u001b[39;49m\u001b[43m \u001b[49m\u001b[38;5;129;43;01min\u001b[39;49;00m\u001b[43m \u001b[49m\u001b[43m(\u001b[49m\u001b[43mchip_df\u001b[49m\u001b[38;5;241;43m.\u001b[39;49m\u001b[43mitem_name\u001b[49m\u001b[43m)\u001b[49m\u001b[43m]\u001b[49m\n",
      "File \u001b[1;32m~\\AppData\\Local\\Programs\\Python\\Python310\\lib\\site-packages\\pandas\\core\\frame.py:3807\u001b[0m, in \u001b[0;36mDataFrame.__getitem__\u001b[1;34m(self, key)\u001b[0m\n\u001b[0;32m   3805\u001b[0m \u001b[38;5;28;01mif\u001b[39;00m \u001b[38;5;28mself\u001b[39m\u001b[38;5;241m.\u001b[39mcolumns\u001b[38;5;241m.\u001b[39mnlevels \u001b[38;5;241m>\u001b[39m \u001b[38;5;241m1\u001b[39m:\n\u001b[0;32m   3806\u001b[0m     \u001b[38;5;28;01mreturn\u001b[39;00m \u001b[38;5;28mself\u001b[39m\u001b[38;5;241m.\u001b[39m_getitem_multilevel(key)\n\u001b[1;32m-> 3807\u001b[0m indexer \u001b[38;5;241m=\u001b[39m \u001b[38;5;28;43mself\u001b[39;49m\u001b[38;5;241;43m.\u001b[39;49m\u001b[43mcolumns\u001b[49m\u001b[38;5;241;43m.\u001b[39;49m\u001b[43mget_loc\u001b[49m\u001b[43m(\u001b[49m\u001b[43mkey\u001b[49m\u001b[43m)\u001b[49m\n\u001b[0;32m   3808\u001b[0m \u001b[38;5;28;01mif\u001b[39;00m is_integer(indexer):\n\u001b[0;32m   3809\u001b[0m     indexer \u001b[38;5;241m=\u001b[39m [indexer]\n",
      "File \u001b[1;32m~\\AppData\\Local\\Programs\\Python\\Python310\\lib\\site-packages\\pandas\\core\\indexes\\base.py:3804\u001b[0m, in \u001b[0;36mIndex.get_loc\u001b[1;34m(self, key, method, tolerance)\u001b[0m\n\u001b[0;32m   3802\u001b[0m     \u001b[38;5;28;01mreturn\u001b[39;00m \u001b[38;5;28mself\u001b[39m\u001b[38;5;241m.\u001b[39m_engine\u001b[38;5;241m.\u001b[39mget_loc(casted_key)\n\u001b[0;32m   3803\u001b[0m \u001b[38;5;28;01mexcept\u001b[39;00m \u001b[38;5;167;01mKeyError\u001b[39;00m \u001b[38;5;28;01mas\u001b[39;00m err:\n\u001b[1;32m-> 3804\u001b[0m     \u001b[38;5;28;01mraise\u001b[39;00m \u001b[38;5;167;01mKeyError\u001b[39;00m(key) \u001b[38;5;28;01mfrom\u001b[39;00m \u001b[38;5;21;01merr\u001b[39;00m\n\u001b[0;32m   3805\u001b[0m \u001b[38;5;28;01mexcept\u001b[39;00m \u001b[38;5;167;01mTypeError\u001b[39;00m:\n\u001b[0;32m   3806\u001b[0m     \u001b[38;5;66;03m# If we have a listlike key, _check_indexing_error will raise\u001b[39;00m\n\u001b[0;32m   3807\u001b[0m     \u001b[38;5;66;03m#  InvalidIndexError. Otherwise we fall through and re-raise\u001b[39;00m\n\u001b[0;32m   3808\u001b[0m     \u001b[38;5;66;03m#  the TypeError.\u001b[39;00m\n\u001b[0;32m   3809\u001b[0m     \u001b[38;5;28mself\u001b[39m\u001b[38;5;241m.\u001b[39m_check_indexing_error(key)\n",
      "\u001b[1;31mKeyError\u001b[0m: False"
     ]
    }
   ],
   "source": [
    "chip_df['Burrito' in chip_df.item_name]"
   ]
  },
  {
   "cell_type": "code",
   "execution_count": null,
   "id": "6aca1437",
   "metadata": {},
   "outputs": [],
   "source": [
    "# 강사님 답\n",
    "# lambda는 복잡해져\n",
    "# chipo_df.item_name.str[:]\n",
    "chipo_df[chipo_df.item_name.str.contains('Burrito')]\n",
    "# .item_name.value_counts()로 제대로 가져왔는지 확인"
   ]
  },
  {
   "cell_type": "code",
   "execution_count": 11,
   "id": "4d38c1c1",
   "metadata": {},
   "outputs": [],
   "source": [
    "# Q6 'item_name'값이 Steak Salad 또는 Bowl인 데이터를 호출해주세요.- 난이도-중"
   ]
  },
  {
   "cell_type": "code",
   "execution_count": null,
   "id": "e45df18b",
   "metadata": {},
   "outputs": [],
   "source": []
  },
  {
   "cell_type": "code",
   "execution_count": null,
   "id": "07615b7c",
   "metadata": {},
   "outputs": [],
   "source": [
    "# 강사님 답\n",
    "chipo_df[(chipo_df.item_name == 'Steak Salad') | (chipo_df.item_name == 'Bowl Salad')]"
   ]
  },
  {
   "cell_type": "code",
   "execution_count": 12,
   "id": "9585def8",
   "metadata": {},
   "outputs": [],
   "source": [
    "# Q7. 전체 데이터의 결측값의 개수를 구해주세요."
   ]
  },
  {
   "cell_type": "code",
   "execution_count": 13,
   "id": "5a14bcf4",
   "metadata": {},
   "outputs": [
    {
     "data": {
      "text/plain": [
       "order_id                 0\n",
       "quantity                 0\n",
       "item_name                0\n",
       "choice_description    1246\n",
       "item_price               0\n",
       "dtype: int64"
      ]
     },
     "execution_count": 13,
     "metadata": {},
     "output_type": "execute_result"
    }
   ],
   "source": [
    "chip_df.isna().sum()"
   ]
  },
  {
   "cell_type": "code",
   "execution_count": null,
   "id": "601235df",
   "metadata": {},
   "outputs": [],
   "source": [
    "# 강사님 답\n",
    "chipo_df.isna().sum()\n",
    "# chipo_df.isna().sum()[-2]  # 가져오기"
   ]
  },
  {
   "cell_type": "code",
   "execution_count": null,
   "id": "129de2fe",
   "metadata": {},
   "outputs": [],
   "source": [
    "# end of file"
   ]
  }
 ],
 "metadata": {
  "kernelspec": {
   "display_name": "Python 3 (ipykernel)",
   "language": "python",
   "name": "python3"
  },
  "language_info": {
   "codemirror_mode": {
    "name": "ipython",
    "version": 3
   },
   "file_extension": ".py",
   "mimetype": "text/x-python",
   "name": "python",
   "nbconvert_exporter": "python",
   "pygments_lexer": "ipython3",
   "version": "3.10.9"
  }
 },
 "nbformat": 4,
 "nbformat_minor": 5
}
