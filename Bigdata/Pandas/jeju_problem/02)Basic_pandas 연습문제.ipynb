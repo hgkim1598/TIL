{
 "cells": [
  {
   "cell_type": "code",
   "execution_count": 2,
   "id": "d85321e1",
   "metadata": {},
   "outputs": [],
   "source": [
    "# q1. jeju 데이터를 로드해보세요. 컬럼이 한글이므로 적절한 처리가 필요"
   ]
  },
  {
   "cell_type": "code",
   "execution_count": 2,
   "id": "14636e67",
   "metadata": {},
   "outputs": [],
   "source": [
    "import pandas as pd\n",
    "import numpy as np\n",
    "import matplotlib\n",
    "matplotlib.rcParams['font.family'] = 'Malgun Gothic' # 윈도우즈의 '맑은 고딕'\n",
    "matplotlib.rcParams['axes.unicode_minus'] = False\n",
    "jeju_df = pd.read_csv('./jeju.csv')"
   ]
  },
  {
   "cell_type": "code",
   "execution_count": null,
   "id": "f705dd44",
   "metadata": {},
   "outputs": [],
   "source": [
    "# 강사님 정답\n",
    "import pandas as pd\n",
    "jeju_df = pd.read_csv('./jeju.csv', encoding='utf-8')"
   ]
  },
  {
   "cell_type": "code",
   "execution_count": 3,
   "id": "e6c20170",
   "metadata": {},
   "outputs": [],
   "source": [
    "# q2. 데이터의 마지막 3개 행을 호출해보세요."
   ]
  },
  {
   "cell_type": "code",
   "execution_count": 4,
   "id": "a61b5f3d",
   "metadata": {},
   "outputs": [
    {
     "data": {
      "text/html": [
       "<div>\n",
       "<style scoped>\n",
       "    .dataframe tbody tr th:only-of-type {\n",
       "        vertical-align: middle;\n",
       "    }\n",
       "\n",
       "    .dataframe tbody tr th {\n",
       "        vertical-align: top;\n",
       "    }\n",
       "\n",
       "    .dataframe thead th {\n",
       "        text-align: right;\n",
       "    }\n",
       "</style>\n",
       "<table border=\"1\" class=\"dataframe\">\n",
       "  <thead>\n",
       "    <tr style=\"text-align: right;\">\n",
       "      <th></th>\n",
       "      <th>Unnamed: 0</th>\n",
       "      <th>id</th>\n",
       "      <th>일자</th>\n",
       "      <th>시도명</th>\n",
       "      <th>읍면동명</th>\n",
       "      <th>거주인구</th>\n",
       "      <th>근무인구</th>\n",
       "      <th>방문인구</th>\n",
       "      <th>총 유동인구</th>\n",
       "      <th>평균 속도</th>\n",
       "      <th>평균 소요 시간</th>\n",
       "      <th>평균 기온</th>\n",
       "      <th>일강수량</th>\n",
       "      <th>평균 풍속</th>\n",
       "    </tr>\n",
       "  </thead>\n",
       "  <tbody>\n",
       "    <tr>\n",
       "      <th>9618</th>\n",
       "      <td>9618</td>\n",
       "      <td>32066</td>\n",
       "      <td>2020-04-30</td>\n",
       "      <td>제주시</td>\n",
       "      <td>도두동</td>\n",
       "      <td>28397.481</td>\n",
       "      <td>3144.895</td>\n",
       "      <td>84052.697</td>\n",
       "      <td>115595.073</td>\n",
       "      <td>41.053</td>\n",
       "      <td>29.421</td>\n",
       "      <td>20.3</td>\n",
       "      <td>0.0</td>\n",
       "      <td>3.0</td>\n",
       "    </tr>\n",
       "    <tr>\n",
       "      <th>9619</th>\n",
       "      <td>9619</td>\n",
       "      <td>32067</td>\n",
       "      <td>2020-04-30</td>\n",
       "      <td>서귀포시</td>\n",
       "      <td>안덕면</td>\n",
       "      <td>348037.846</td>\n",
       "      <td>29106.286</td>\n",
       "      <td>251129.660</td>\n",
       "      <td>628273.792</td>\n",
       "      <td>46.595</td>\n",
       "      <td>49.189</td>\n",
       "      <td>17.6</td>\n",
       "      <td>0.0</td>\n",
       "      <td>3.5</td>\n",
       "    </tr>\n",
       "    <tr>\n",
       "      <th>9620</th>\n",
       "      <td>9620</td>\n",
       "      <td>32068</td>\n",
       "      <td>2020-04-30</td>\n",
       "      <td>제주시</td>\n",
       "      <td>연동</td>\n",
       "      <td>1010643.372</td>\n",
       "      <td>65673.477</td>\n",
       "      <td>447622.068</td>\n",
       "      <td>1523938.917</td>\n",
       "      <td>40.863</td>\n",
       "      <td>27.765</td>\n",
       "      <td>14.1</td>\n",
       "      <td>0.0</td>\n",
       "      <td>4.8</td>\n",
       "    </tr>\n",
       "  </tbody>\n",
       "</table>\n",
       "</div>"
      ],
      "text/plain": [
       "      Unnamed: 0     id          일자   시도명 읍면동명         거주인구       근무인구  \\\n",
       "9618        9618  32066  2020-04-30   제주시  도두동    28397.481   3144.895   \n",
       "9619        9619  32067  2020-04-30  서귀포시  안덕면   348037.846  29106.286   \n",
       "9620        9620  32068  2020-04-30   제주시   연동  1010643.372  65673.477   \n",
       "\n",
       "            방문인구       총 유동인구   평균 속도  평균 소요 시간  평균 기온  일강수량  평균 풍속  \n",
       "9618   84052.697   115595.073  41.053    29.421   20.3   0.0    3.0  \n",
       "9619  251129.660   628273.792  46.595    49.189   17.6   0.0    3.5  \n",
       "9620  447622.068  1523938.917  40.863    27.765   14.1   0.0    4.8  "
      ]
     },
     "execution_count": 4,
     "metadata": {},
     "output_type": "execute_result"
    }
   ],
   "source": [
    "jeju_df.tail(3)"
   ]
  },
  {
   "cell_type": "code",
   "execution_count": null,
   "id": "3ab54c02",
   "metadata": {},
   "outputs": [],
   "source": [
    "# 강사님 정답\n",
    "jeju_df.tail(3)"
   ]
  },
  {
   "cell_type": "code",
   "execution_count": 4,
   "id": "6e662c4f",
   "metadata": {},
   "outputs": [],
   "source": [
    "# q3. 범주형 변수를 가진 컬럼을 출력해보세요."
   ]
  },
  {
   "cell_type": "code",
   "execution_count": 6,
   "id": "18e35338",
   "metadata": {},
   "outputs": [
    {
     "ename": "AttributeError",
     "evalue": "'DataFrame' object has no attribute 'column'",
     "output_type": "error",
     "traceback": [
      "\u001b[1;31m---------------------------------------------------------------------------\u001b[0m",
      "\u001b[1;31mAttributeError\u001b[0m                            Traceback (most recent call last)",
      "Cell \u001b[1;32mIn[6], line 1\u001b[0m\n\u001b[1;32m----> 1\u001b[0m \u001b[43mjeju_df\u001b[49m\u001b[38;5;241;43m.\u001b[39;49m\u001b[43mcolumn\u001b[49m\n",
      "File \u001b[1;32m~\\AppData\\Local\\Programs\\Python\\Python310\\lib\\site-packages\\pandas\\core\\generic.py:5902\u001b[0m, in \u001b[0;36mNDFrame.__getattr__\u001b[1;34m(self, name)\u001b[0m\n\u001b[0;32m   5895\u001b[0m \u001b[38;5;28;01mif\u001b[39;00m (\n\u001b[0;32m   5896\u001b[0m     name \u001b[38;5;129;01mnot\u001b[39;00m \u001b[38;5;129;01min\u001b[39;00m \u001b[38;5;28mself\u001b[39m\u001b[38;5;241m.\u001b[39m_internal_names_set\n\u001b[0;32m   5897\u001b[0m     \u001b[38;5;129;01mand\u001b[39;00m name \u001b[38;5;129;01mnot\u001b[39;00m \u001b[38;5;129;01min\u001b[39;00m \u001b[38;5;28mself\u001b[39m\u001b[38;5;241m.\u001b[39m_metadata\n\u001b[0;32m   5898\u001b[0m     \u001b[38;5;129;01mand\u001b[39;00m name \u001b[38;5;129;01mnot\u001b[39;00m \u001b[38;5;129;01min\u001b[39;00m \u001b[38;5;28mself\u001b[39m\u001b[38;5;241m.\u001b[39m_accessors\n\u001b[0;32m   5899\u001b[0m     \u001b[38;5;129;01mand\u001b[39;00m \u001b[38;5;28mself\u001b[39m\u001b[38;5;241m.\u001b[39m_info_axis\u001b[38;5;241m.\u001b[39m_can_hold_identifiers_and_holds_name(name)\n\u001b[0;32m   5900\u001b[0m ):\n\u001b[0;32m   5901\u001b[0m     \u001b[38;5;28;01mreturn\u001b[39;00m \u001b[38;5;28mself\u001b[39m[name]\n\u001b[1;32m-> 5902\u001b[0m \u001b[38;5;28;01mreturn\u001b[39;00m \u001b[38;5;28;43mobject\u001b[39;49m\u001b[38;5;241;43m.\u001b[39;49m\u001b[38;5;21;43m__getattribute__\u001b[39;49m\u001b[43m(\u001b[49m\u001b[38;5;28;43mself\u001b[39;49m\u001b[43m,\u001b[49m\u001b[43m \u001b[49m\u001b[43mname\u001b[49m\u001b[43m)\u001b[49m\n",
      "\u001b[1;31mAttributeError\u001b[0m: 'DataFrame' object has no attribute 'column'"
     ]
    }
   ],
   "source": [
    "jeju_df"
   ]
  },
  {
   "cell_type": "code",
   "execution_count": null,
   "id": "a3adce9e",
   "metadata": {},
   "outputs": [],
   "source": [
    "# 강사님 정답\n",
    "# 문자열 데이터 (명목형, 서열형)\n",
    "# select_dtypes\n",
    "jeju_df.select_dtypes(include='object').columns"
   ]
  },
  {
   "cell_type": "code",
   "execution_count": 5,
   "id": "a165906e",
   "metadata": {},
   "outputs": [],
   "source": [
    "# q4. 숫자형 변수를 가진 컬럼을 출력해보세요."
   ]
  },
  {
   "cell_type": "code",
   "execution_count": null,
   "id": "ed32cfe0",
   "metadata": {},
   "outputs": [],
   "source": [
    "jeju_df."
   ]
  },
  {
   "cell_type": "code",
   "execution_count": null,
   "id": "d7aff5fc",
   "metadata": {},
   "outputs": [],
   "source": [
    "# 강사님 정답\n",
    "# jeju_df.select_dtypes(include=['int64', 'float64']).columns\n",
    "jeju_df.select_dtypes(exclude='object').columns"
   ]
  },
  {
   "cell_type": "code",
   "execution_count": 6,
   "id": "fd8ede68",
   "metadata": {},
   "outputs": [],
   "source": [
    "# q5. 각 컬럼들의 결측치 숫자들을 파악해보세요."
   ]
  },
  {
   "cell_type": "code",
   "execution_count": 7,
   "id": "4f21bbfa",
   "metadata": {},
   "outputs": [
    {
     "data": {
      "text/plain": [
       "Unnamed: 0    0\n",
       "id            0\n",
       "일자            0\n",
       "시도명           0\n",
       "읍면동명          0\n",
       "거주인구          0\n",
       "근무인구          0\n",
       "방문인구          0\n",
       "총 유동인구        0\n",
       "평균 속도         0\n",
       "평균 소요 시간      0\n",
       "평균 기온         0\n",
       "일강수량          0\n",
       "평균 풍속         0\n",
       "dtype: int64"
      ]
     },
     "execution_count": 7,
     "metadata": {},
     "output_type": "execute_result"
    }
   ],
   "source": [
    "jeju_df.isna().sum()"
   ]
  },
  {
   "cell_type": "code",
   "execution_count": null,
   "id": "e2d9a4f6",
   "metadata": {},
   "outputs": [],
   "source": [
    "# 강사님 정답\n",
    "jeju_df.isna().sum()"
   ]
  },
  {
   "cell_type": "code",
   "execution_count": 7,
   "id": "d2b8d076",
   "metadata": {},
   "outputs": [],
   "source": [
    "# q6. 각 컬럼의 데이터수, 데이터타입을 한 번에 확인해보세요."
   ]
  },
  {
   "cell_type": "code",
   "execution_count": 8,
   "id": "8fcc3827",
   "metadata": {},
   "outputs": [
    {
     "name": "stdout",
     "output_type": "stream",
     "text": [
      "<class 'pandas.core.frame.DataFrame'>\n",
      "RangeIndex: 9621 entries, 0 to 9620\n",
      "Data columns (total 14 columns):\n",
      " #   Column      Non-Null Count  Dtype  \n",
      "---  ------      --------------  -----  \n",
      " 0   Unnamed: 0  9621 non-null   int64  \n",
      " 1   id          9621 non-null   int64  \n",
      " 2   일자          9621 non-null   object \n",
      " 3   시도명         9621 non-null   object \n",
      " 4   읍면동명        9621 non-null   object \n",
      " 5   거주인구        9621 non-null   float64\n",
      " 6   근무인구        9621 non-null   float64\n",
      " 7   방문인구        9621 non-null   float64\n",
      " 8   총 유동인구      9621 non-null   float64\n",
      " 9   평균 속도       9621 non-null   float64\n",
      " 10  평균 소요 시간    9621 non-null   float64\n",
      " 11  평균 기온       9621 non-null   float64\n",
      " 12  일강수량        9621 non-null   float64\n",
      " 13  평균 풍속       9621 non-null   float64\n",
      "dtypes: float64(9), int64(2), object(3)\n",
      "memory usage: 1.0+ MB\n"
     ]
    }
   ],
   "source": [
    "jeju_df.info()"
   ]
  },
  {
   "cell_type": "code",
   "execution_count": null,
   "id": "c2b292dc",
   "metadata": {},
   "outputs": [],
   "source": [
    "# 강사님 정답\n",
    "jeju_df.info()"
   ]
  },
  {
   "cell_type": "code",
   "execution_count": 8,
   "id": "7461942a",
   "metadata": {},
   "outputs": [],
   "source": [
    "# q7. 거주인구, 근무인구와 방문인구, 총 유동인구로만 구성된 df를 만드세요."
   ]
  },
  {
   "cell_type": "code",
   "execution_count": null,
   "id": "6e3c943d",
   "metadata": {},
   "outputs": [],
   "source": []
  },
  {
   "cell_type": "code",
   "execution_count": null,
   "id": "5cc7b93d",
   "metadata": {},
   "outputs": [],
   "source": [
    "# 강사님 정답\n",
    "# 방법1.\n",
    "new_df = jeju_df[['거주인구', '근무인구', '방문인구', '총 유동인구']]"
   ]
  },
  {
   "cell_type": "code",
   "execution_count": null,
   "id": "c1ffc841",
   "metadata": {},
   "outputs": [],
   "source": [
    "# 방법2.\n",
    "new_df = jeju_df.iloc[:,5:9]"
   ]
  },
  {
   "cell_type": "code",
   "execution_count": null,
   "id": "ec641508",
   "metadata": {},
   "outputs": [],
   "source": [
    "# q8 위에서 생성된 df에 행을 추가해주세요\n",
    "# 추가 행값은 min값으로 해주세요."
   ]
  },
  {
   "cell_type": "code",
   "execution_count": null,
   "id": "066a64ba",
   "metadata": {},
   "outputs": [],
   "source": []
  },
  {
   "cell_type": "code",
   "execution_count": null,
   "id": "350eb3ad",
   "metadata": {},
   "outputs": [],
   "source": [
    "# 강사님 정답\n",
    "new_df.describe()"
   ]
  },
  {
   "cell_type": "code",
   "execution_count": null,
   "id": "68021fb5",
   "metadata": {},
   "outputs": [],
   "source": [
    "min_거주인구 = jeju_df.거주인구.min()\n",
    "min_근무인구 = jeju_df.근무인구.min()\n",
    "min_방문인구 = jeju_df.방문인구.min()\n",
    "min_총_유동인구 = jeju_df['총_유동인구'].min()"
   ]
  },
  {
   "cell_type": "code",
   "execution_count": null,
   "id": "8a5de303",
   "metadata": {},
   "outputs": [],
   "source": [
    "print(min_거주인구, min_근무인구, min_방문인구, min_총_유동인구)"
   ]
  },
  {
   "cell_type": "code",
   "execution_count": null,
   "id": "28c1d7e5",
   "metadata": {},
   "outputs": [],
   "source": [
    "new_df.loc[new_df.shape[0]] = [min_거주인구, min_근무인구, min_방문인구, min_총_유동인구]"
   ]
  },
  {
   "cell_type": "code",
   "execution_count": 11,
   "id": "ed9d2d8d",
   "metadata": {},
   "outputs": [],
   "source": [
    "# q9. 총 유동인구 컬럼의 값들을 출력해보세요."
   ]
  },
  {
   "cell_type": "code",
   "execution_count": 9,
   "id": "09c8f27c",
   "metadata": {},
   "outputs": [
    {
     "data": {
      "text/plain": [
       "0        138377.345\n",
       "1        336534.958\n",
       "2       1850497.533\n",
       "3        112181.825\n",
       "4        315323.303\n",
       "           ...     \n",
       "9616     397984.186\n",
       "9617     735666.605\n",
       "9618     115595.073\n",
       "9619     628273.792\n",
       "9620    1523938.917\n",
       "Name: 총 유동인구, Length: 9621, dtype: float64"
      ]
     },
     "execution_count": 9,
     "metadata": {},
     "output_type": "execute_result"
    }
   ],
   "source": [
    "jeju_df['총 유동인구']"
   ]
  },
  {
   "cell_type": "code",
   "execution_count": null,
   "id": "b8f25139",
   "metadata": {},
   "outputs": [],
   "source": [
    "# 강사님 정답\n",
    "jeju_df['총 유동인구']"
   ]
  },
  {
   "cell_type": "code",
   "execution_count": 10,
   "id": "e5ce411e",
   "metadata": {},
   "outputs": [],
   "source": [
    "# q10. 시도명의 유일값의 개수를 구해보세요."
   ]
  },
  {
   "cell_type": "code",
   "execution_count": null,
   "id": "30b8fd9f",
   "metadata": {},
   "outputs": [],
   "source": []
  },
  {
   "cell_type": "code",
   "execution_count": null,
   "id": "aa87a7b1",
   "metadata": {},
   "outputs": [],
   "source": [
    "# 강사님 정답\n",
    "# nunique\n",
    "jeju_df.읍면동명.nunuque()"
   ]
  },
  {
   "cell_type": "code",
   "execution_count": null,
   "id": "662fd5c2",
   "metadata": {},
   "outputs": [],
   "source": [
    "len(jeju_df.시도명.value_counts())"
   ]
  },
  {
   "cell_type": "code",
   "execution_count": null,
   "id": "d84aab6f",
   "metadata": {},
   "outputs": [],
   "source": []
  },
  {
   "cell_type": "code",
   "execution_count": null,
   "id": "0f09d50b",
   "metadata": {},
   "outputs": [],
   "source": [
    "empty_df = pd.DataFrame({'거주인구':[],\n",
    "                        '근무인구':[],\n",
    "                        '방문인구':[],\n",
    "                        '총 유동인구':[]})"
   ]
  },
  {
   "cell_type": "code",
   "execution_count": null,
   "id": "de0cf52c",
   "metadata": {},
   "outputs": [],
   "source": [
    "empty_df.loc[2] = new_df.min()"
   ]
  },
  {
   "cell_type": "code",
   "execution_count": null,
   "id": "649e5c3a",
   "metadata": {},
   "outputs": [],
   "source": [
    "empty_df"
   ]
  }
 ],
 "metadata": {
  "kernelspec": {
   "display_name": "Python 3 (ipykernel)",
   "language": "python",
   "name": "python3"
  },
  "language_info": {
   "codemirror_mode": {
    "name": "ipython",
    "version": 3
   },
   "file_extension": ".py",
   "mimetype": "text/x-python",
   "name": "python",
   "nbconvert_exporter": "python",
   "pygments_lexer": "ipython3",
   "version": "3.10.9"
  }
 },
 "nbformat": 4,
 "nbformat_minor": 5
}
